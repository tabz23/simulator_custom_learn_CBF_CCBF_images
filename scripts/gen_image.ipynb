{
 "cells": [
  {
   "cell_type": "code",
   "execution_count": 9,
   "metadata": {},
   "outputs": [
    {
     "name": "stdout",
     "output_type": "stream",
     "text": [
      "(64, 64, 3)\n"
     ]
    },
    {
     "data": {
      "image/png": "[encoded data removed]",
      "text/plain": [
       "<Figure size 400x400 with 1 Axes>"
      ]
     },
     "metadata": {},
     "output_type": "display_data"
    }
   ],
   "source": [
    "import numpy as np\n",
    "import matplotlib.pyplot as plt\n",
    "from io import BytesIO\n",
    "from PIL import Image\n",
    "\n",
    "fig, ax = plt.subplots(figsize=(4,4), facecolor='white')\n",
    "ax.clear()\n",
    "ax.set_xlim(-30, 30)\n",
    "ax.set_ylim(-30, 30)\n",
    "ax.set_facecolor('white')  # White background\n",
    "obstacle_circle = plt.Circle(\n",
    "    (env.obstacle_position[0], env.obstacle_position[1]), \n",
    "    4, ##hardcode circle radius as 4 because in the env.onstacle_radius will not be 4 as we are vaying it for generating trajectories using cbf\n",
    "    color='brown', \n",
    "    alpha=1\n",
    ")\n",
    "ax.add_artist(obstacle_circle)\n",
    "ax.scatter(state[0], state[1], color='black', s=300)\n",
    "# Remove axis and white space\n",
    "ax.set_axis_off()\n",
    "plt.tight_layout(pad=0)\n",
    "\n",
    "# Save figure to memory buffer\n",
    "buf = BytesIO()\n",
    "fig.savefig(buf, format='png', dpi=16, bbox_inches='tight', pad_inches=0, transparent=False)\n",
    "buf.seek(0)\n",
    "\n",
    "# Convert to RGB array\n",
    "img = Image.open(buf)\n",
    "img_array = np.array(img.convert('RGB'))"
   ]
  }
 ],
 "metadata": {
  "kernelspec": {
   "display_name": "cs285",
   "language": "python",
   "name": "python3"
  },
  "language_info": {
   "codemirror_mode": {
    "name": "ipython",
    "version": 3
   },
   "file_extension": ".py",
   "mimetype": "text/x-python",
   "name": "python",
   "nbconvert_exporter": "python",
   "pygments_lexer": "ipython3",
   "version": "3.9.21"
  }
 },
 "nbformat": 4,
 "nbformat_minor": 2
}
